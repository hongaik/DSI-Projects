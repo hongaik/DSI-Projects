{
 "cells": [
  {
   "cell_type": "markdown",
   "metadata": {},
   "source": [
    "<img src=\"http://imgur.com/1ZcRyrc.png\" style=\"float: left; margin: 20px; height: 55px\">\n",
    "\n",
    "# Project 3: Classification of Reddit Posts"
   ]
  },
  {
   "cell_type": "code",
   "execution_count": 163,
   "metadata": {},
   "outputs": [],
   "source": [
    "import requests\n",
    "import pandas as pd\n",
    "import numpy as np\n",
    "import matplotlib.pyplot as plt\n",
    "import re, string\n",
    "import seaborn as sns\n",
    "import time\n",
    "import random\n",
    "from sklearn.model_selection import train_test_split, GridSearchCV\n",
    "from sklearn.linear_model import LogisticRegression\n",
    "from sklearn.ensemble import RandomForestClassifier\n",
    "from sklearn.pipeline import Pipeline\n",
    "from sklearn.feature_extraction.text import TfidfVectorizer\n",
    "from nltk.stem import WordNetLemmatizer\n",
    "from sklearn.metrics import plot_confusion_matrix, confusion_matrix"
   ]
  },
  {
   "cell_type": "markdown",
   "metadata": {},
   "source": [
    "# Scrape Data; Save raw data in csv for faster loading"
   ]
  },
  {
   "cell_type": "markdown",
   "metadata": {},
   "source": [
    "### Run these 4 cells only once, cos it takes a long time"
   ]
  },
  {
   "cell_type": "code",
   "execution_count": null,
   "metadata": {},
   "outputs": [],
   "source": [
    "# set parameters\n",
    "params_zoom = {\n",
    "    'subreddit': 'zoom',\n",
    "    'size': 100,\n",
    "    'after': 1577836800 # after 1 Jan 2020\n",
    "}\n",
    "\n",
    "url = 'https://api.pushshift.io//reddit/search/submission'\n",
    "\n",
    "# get first tranche of data in a list. This retrieves the earliest 100 submissions\n",
    "res_zoom = requests.get(url, params_zoom)\n",
    "res_data_zoom = res_zoom.json()['data']\n",
    "\n",
    "res_data_zoom_add = ['empty']\n",
    "\n",
    "# update the 'after' params with the latest timestamp and retrieve the next 100 submissions\n",
    "while len(res_data_zoom_add) > 0:\n",
    "    time.sleep(2)\n",
    "    params_zoom['after'] = res_data_zoom[-1]['created_utc']\n",
    "    res_data_zoom_add = requests.get(url, params_zoom).json()['data']\n",
    "    res_data_zoom += res_data_zoom_add"
   ]
  },
  {
   "cell_type": "code",
   "execution_count": null,
   "metadata": {},
   "outputs": [],
   "source": [
    "# save results to csv\n",
    "pd.DataFrame(res_data_zoom).to_csv('datasets/zoom_s.csv', index=False)\n",
    "print(pd.DataFrame(res_data_zoom).shape)"
   ]
  },
  {
   "cell_type": "code",
   "execution_count": null,
   "metadata": {},
   "outputs": [],
   "source": [
    "# set parameters\n",
    "params_mst = {\n",
    "    'subreddit': 'MicrosoftTeams',\n",
    "    'size': 100,\n",
    "    'after': 1577836800\n",
    "}\n",
    "\n",
    "# get first tranche of data in a list. This retrieves the earliest 100 submissions\n",
    "url = 'https://api.pushshift.io//reddit/search/submission'\n",
    "\n",
    "res_mst = requests.get(url, params_mst)\n",
    "res_data_mst = res_mst.json()['data']\n",
    "\n",
    "res_data_mst_add = ['empty']\n",
    "\n",
    "# update the 'after' params with the latest timestamp and retrieve the next 100 submissions\n",
    "while len(res_data_mst_add) > 0:    \n",
    "    params_mst['after'] = res_data_mst[-1]['created_utc']\n",
    "    res_data_mst_add = requests.get(url, params_mst).json()['data']\n",
    "    res_data_mst += res_data_mst_add"
   ]
  },
  {
   "cell_type": "code",
   "execution_count": null,
   "metadata": {},
   "outputs": [],
   "source": [
    "# save results to csv\n",
    "pd.DataFrame(res_data_mst).to_csv('datasets/mst_s.csv', index=False)\n",
    "print(pd.DataFrame(res_data_mst).shape)"
   ]
  },
  {
   "cell_type": "markdown",
   "metadata": {},
   "source": [
    "# Filter time period and columns"
   ]
  },
  {
   "cell_type": "code",
   "execution_count": 120,
   "metadata": {},
   "outputs": [
    {
     "name": "stderr",
     "output_type": "stream",
     "text": [
      "C:\\HA\\Python\\Anaconda\\lib\\site-packages\\IPython\\core\\interactiveshell.py:3165: DtypeWarning: Columns (42,84,85,86) have mixed types.Specify dtype option on import or set low_memory=False.\n",
      "  has_raised = await self.run_ast_nodes(code_ast.body, cell_name,\n",
      "C:\\HA\\Python\\Anaconda\\lib\\site-packages\\IPython\\core\\interactiveshell.py:3165: DtypeWarning: Columns (3,42,87,88,89,90) have mixed types.Specify dtype option on import or set low_memory=False.\n",
      "  has_raised = await self.run_ast_nodes(code_ast.body, cell_name,\n"
     ]
    }
   ],
   "source": [
    "zoom_s = pd.read_csv('datasets/zoom_s.csv')\n",
    "mst_s = pd.read_csv('datasets/mst_s.csv')"
   ]
  },
  {
   "cell_type": "code",
   "execution_count": 121,
   "metadata": {},
   "outputs": [],
   "source": [
    "# Filter to 4 columns that we need\n",
    "zoom_s = zoom_s[['created_utc', 'selftext', 'title', 'subreddit']]\n",
    "# Convert epoch time to datetime for easier filtering\n",
    "zoom_s['created_utc'] = zoom_s['created_utc'].apply(lambda x: time.strftime('%Y-%m-%d %H:%M:%S', time.localtime(x))).astype('datetime64[ns]') # convert epoch to local time\n",
    "# Filter time period\n",
    "zoom_s = zoom_s[(zoom_s['created_utc'] >= '2020-04-01') & (zoom_s['created_utc'] <= '2021-03-31')]\n",
    "\n",
    "mst_s = mst_s[['created_utc', 'selftext', 'title', 'subreddit']]\n",
    "mst_s['created_utc'] = mst_s['created_utc'].apply(lambda x: time.strftime('%Y-%m-%d %H:%M:%S', time.localtime(x))).astype('datetime64[ns]') # convert epoch to local time\n",
    "mst_s = mst_s[(mst_s['created_utc'] >= '2020-04-01') & (mst_s['created_utc'] <= '2021-03-31')]"
   ]
  },
  {
   "cell_type": "code",
   "execution_count": 122,
   "metadata": {},
   "outputs": [],
   "source": [
    "# append into 1 dataframe\n",
    "combined_s = pd.concat([mst_s, zoom_s])\n",
    "\n",
    "# concatenate selftext and title\n",
    "combined_s['text'] = combined_s['selftext'] + combined_s['title']\n",
    "\n",
    "# retain only necessary columns\n",
    "combined_s = combined_s[['subreddit', 'text']]"
   ]
  },
  {
   "cell_type": "markdown",
   "metadata": {},
   "source": [
    "# Clean text"
   ]
  },
  {
   "cell_type": "code",
   "execution_count": 123,
   "metadata": {},
   "outputs": [],
   "source": [
    "def cleaner(text):\n",
    "    # Make lowercase\n",
    "    text = text.lower()\n",
    "    \n",
    "    # Remove [deleted] and [removed] tags\n",
    "    text = re.sub(r'\\[removed\\]|\\[deleted\\]', '', text)\n",
    "\n",
    "    # Remove HTML special entities (e.g. &amp;)\n",
    "    text = re.sub(r'\\&\\w*;', '', text)\n",
    "    \n",
    "    # Remove hyperlinks\n",
    "    text = re.sub(r'https?:\\/\\/.*\\/\\w*', '', text)\n",
    "    \n",
    "    # Remove punctuation and split 's, 't, 've with a space for filter\n",
    "    text = re.sub(r'[' + string.punctuation.replace('@', '') + ']+', ' ', text)\n",
    "    \n",
    "    # Remove words with 2 or fewer letters\n",
    "    text = re.sub(r'\\b\\w{1,2}\\b', '', text)\n",
    "    \n",
    "    # Remove whitespace (including new line characters)\n",
    "    text = re.sub(r'\\s\\s+', ' ', text)\n",
    "    \n",
    "    # Remove characters beyond Basic Multilingual Plane (BMP) of Unicode:\n",
    "    text = ''.join(c for c in text if c <= '\\uFFFF') \n",
    "    \n",
    "    # Lemmatize\n",
    "    lemmatizer = WordNetLemmatizer()\n",
    "    text = ' '.join([lemmatizer.lemmatize(i) for i in text.split()]) #lemmatize\n",
    "    \n",
    "    # Remove non-standard characters eg. chinese/tamil characters\n",
    "    text = re.sub(r'[^0-9a-zA-Z\\s]','', text)\n",
    "    \n",
    "    return text"
   ]
  },
  {
   "cell_type": "code",
   "execution_count": 124,
   "metadata": {},
   "outputs": [],
   "source": [
    "# dropna first, if not function will throw error as null values are considered floats and cannot .lower()\n",
    "combined_s.dropna(subset=['text'], inplace=True)"
   ]
  },
  {
   "cell_type": "code",
   "execution_count": 125,
   "metadata": {},
   "outputs": [],
   "source": [
    "# apply cleaner function to clean text, save results in new column called text_cleaned\n",
    "combined_s['text_cleaned'] = combined_s['text'].apply(lambda x: cleaner(x))"
   ]
  },
  {
   "cell_type": "code",
   "execution_count": 126,
   "metadata": {},
   "outputs": [],
   "source": [
    "# dropna again in case there are nulls after cleaning\n",
    "combined_s.dropna(subset=['text_cleaned'], inplace=True)\n",
    "\n",
    "# remove rows where is blank string or whitespace\n",
    "combined_s = combined_s[combined_s['text_cleaned'] != '']\n",
    "combined_s = combined_s[combined_s['text_cleaned'] != ' ']"
   ]
  },
  {
   "cell_type": "code",
   "execution_count": 127,
   "metadata": {},
   "outputs": [],
   "source": [
    "# Map MST = 0, Zoom = 1. Arbitrary, you can define other way round too\n",
    "combined_s['subreddit'] = combined_s['subreddit'].map({'MicrosoftTeams':0, 'Zoom':1})"
   ]
  },
  {
   "cell_type": "code",
   "execution_count": 128,
   "metadata": {},
   "outputs": [
    {
     "data": {
      "text/html": [
       "<div>\n",
       "<style scoped>\n",
       "    .dataframe tbody tr th:only-of-type {\n",
       "        vertical-align: middle;\n",
       "    }\n",
       "\n",
       "    .dataframe tbody tr th {\n",
       "        vertical-align: top;\n",
       "    }\n",
       "\n",
       "    .dataframe thead th {\n",
       "        text-align: right;\n",
       "    }\n",
       "</style>\n",
       "<table border=\"1\" class=\"dataframe\">\n",
       "  <thead>\n",
       "    <tr style=\"text-align: right;\">\n",
       "      <th></th>\n",
       "      <th>subreddit</th>\n",
       "      <th>text</th>\n",
       "      <th>text_cleaned</th>\n",
       "    </tr>\n",
       "  </thead>\n",
       "  <tbody>\n",
       "    <tr>\n",
       "      <th>749</th>\n",
       "      <td>0</td>\n",
       "      <td>It displays when everyine else is, but most ch...</td>\n",
       "      <td>display when everyine else but most chat apps ...</td>\n",
       "    </tr>\n",
       "    <tr>\n",
       "      <th>750</th>\n",
       "      <td>0</td>\n",
       "      <td>Currently it's capped at 4 but it would be gre...</td>\n",
       "      <td>currently capped but would great more the vide...</td>\n",
       "    </tr>\n",
       "    <tr>\n",
       "      <th>751</th>\n",
       "      <td>0</td>\n",
       "      <td>[deleted]Posted in the wrong teams group</td>\n",
       "      <td>posted the wrong team group</td>\n",
       "    </tr>\n",
       "    <tr>\n",
       "      <th>752</th>\n",
       "      <td>0</td>\n",
       "      <td>I'm using the IP camera app on my phone to use...</td>\n",
       "      <td>using the camera app phone use webcam for conf...</td>\n",
       "    </tr>\n",
       "    <tr>\n",
       "      <th>753</th>\n",
       "      <td>0</td>\n",
       "      <td>Now that most of my company has moved to WFH w...</td>\n",
       "      <td>now that most company ha moved wfh are being t...</td>\n",
       "    </tr>\n",
       "  </tbody>\n",
       "</table>\n",
       "</div>"
      ],
      "text/plain": [
       "     subreddit                                               text  \\\n",
       "749          0  It displays when everyine else is, but most ch...   \n",
       "750          0  Currently it's capped at 4 but it would be gre...   \n",
       "751          0           [deleted]Posted in the wrong teams group   \n",
       "752          0  I'm using the IP camera app on my phone to use...   \n",
       "753          0  Now that most of my company has moved to WFH w...   \n",
       "\n",
       "                                          text_cleaned  \n",
       "749  display when everyine else but most chat apps ...  \n",
       "750  currently capped but would great more the vide...  \n",
       "751                        posted the wrong team group  \n",
       "752  using the camera app phone use webcam for conf...  \n",
       "753  now that most company ha moved wfh are being t...  "
      ]
     },
     "execution_count": 128,
     "metadata": {},
     "output_type": "execute_result"
    }
   ],
   "source": [
    "combined_s.head()"
   ]
  },
  {
   "cell_type": "code",
   "execution_count": 129,
   "metadata": {},
   "outputs": [
    {
     "data": {
      "text/plain": [
       "1    9147\n",
       "0    5997\n",
       "Name: subreddit, dtype: int64"
      ]
     },
     "execution_count": 129,
     "metadata": {},
     "output_type": "execute_result"
    }
   ],
   "source": [
    "# class distribution\n",
    "combined_s['subreddit'].value_counts()"
   ]
  },
  {
   "cell_type": "code",
   "execution_count": 130,
   "metadata": {},
   "outputs": [
    {
     "data": {
      "text/plain": [
       "subreddit       0\n",
       "text            0\n",
       "text_cleaned    0\n",
       "dtype: int64"
      ]
     },
     "execution_count": 130,
     "metadata": {},
     "output_type": "execute_result"
    }
   ],
   "source": [
    "# check nulls - no nulls - good\n",
    "combined_s.isnull().sum()"
   ]
  },
  {
   "cell_type": "markdown",
   "metadata": {},
   "source": [
    "# Drop 9147-5997=3150 posts from Zoom to ensure balanced class. So that evaluation metrics can be simply on accuracy"
   ]
  },
  {
   "cell_type": "code",
   "execution_count": 131,
   "metadata": {},
   "outputs": [
    {
     "data": {
      "text/html": [
       "<div>\n",
       "<style scoped>\n",
       "    .dataframe tbody tr th:only-of-type {\n",
       "        vertical-align: middle;\n",
       "    }\n",
       "\n",
       "    .dataframe tbody tr th {\n",
       "        vertical-align: top;\n",
       "    }\n",
       "\n",
       "    .dataframe thead th {\n",
       "        text-align: right;\n",
       "    }\n",
       "</style>\n",
       "<table border=\"1\" class=\"dataframe\">\n",
       "  <thead>\n",
       "    <tr style=\"text-align: right;\">\n",
       "      <th></th>\n",
       "      <th>subreddit</th>\n",
       "      <th>text</th>\n",
       "      <th>text_cleaned</th>\n",
       "    </tr>\n",
       "  </thead>\n",
       "  <tbody>\n",
       "    <tr>\n",
       "      <th>0</th>\n",
       "      <td>0</td>\n",
       "      <td>It displays when everyine else is, but most ch...</td>\n",
       "      <td>display when everyine else but most chat apps ...</td>\n",
       "    </tr>\n",
       "    <tr>\n",
       "      <th>1</th>\n",
       "      <td>0</td>\n",
       "      <td>Currently it's capped at 4 but it would be gre...</td>\n",
       "      <td>currently capped but would great more the vide...</td>\n",
       "    </tr>\n",
       "    <tr>\n",
       "      <th>2</th>\n",
       "      <td>0</td>\n",
       "      <td>[deleted]Posted in the wrong teams group</td>\n",
       "      <td>posted the wrong team group</td>\n",
       "    </tr>\n",
       "    <tr>\n",
       "      <th>3</th>\n",
       "      <td>0</td>\n",
       "      <td>I'm using the IP camera app on my phone to use...</td>\n",
       "      <td>using the camera app phone use webcam for conf...</td>\n",
       "    </tr>\n",
       "    <tr>\n",
       "      <th>4</th>\n",
       "      <td>0</td>\n",
       "      <td>Now that most of my company has moved to WFH w...</td>\n",
       "      <td>now that most company ha moved wfh are being t...</td>\n",
       "    </tr>\n",
       "  </tbody>\n",
       "</table>\n",
       "</div>"
      ],
      "text/plain": [
       "   subreddit                                               text  \\\n",
       "0          0  It displays when everyine else is, but most ch...   \n",
       "1          0  Currently it's capped at 4 but it would be gre...   \n",
       "2          0           [deleted]Posted in the wrong teams group   \n",
       "3          0  I'm using the IP camera app on my phone to use...   \n",
       "4          0  Now that most of my company has moved to WFH w...   \n",
       "\n",
       "                                        text_cleaned  \n",
       "0  display when everyine else but most chat apps ...  \n",
       "1  currently capped but would great more the vide...  \n",
       "2                        posted the wrong team group  \n",
       "3  using the camera app phone use webcam for conf...  \n",
       "4  now that most company ha moved wfh are being t...  "
      ]
     },
     "execution_count": 131,
     "metadata": {},
     "output_type": "execute_result"
    }
   ],
   "source": [
    "# reset index first so that it's in running order and no duplicate index number\n",
    "combined_s = combined_s.reset_index(drop=True)\n",
    "combined_s.head()"
   ]
  },
  {
   "cell_type": "code",
   "execution_count": 132,
   "metadata": {},
   "outputs": [
    {
     "data": {
      "text/plain": [
       "[5997, 5998, 5999, 6000, 6001]"
      ]
     },
     "execution_count": 132,
     "metadata": {},
     "output_type": "execute_result"
    }
   ],
   "source": [
    "# grab the index positions of all rows corresponding to Zoom (subreddit=1) posts\n",
    "index_positions_of_zoom = list(combined_s[combined_s['subreddit']==1].index)\n",
    "# let's see first 5 index positions\n",
    "index_positions_of_zoom[:5]"
   ]
  },
  {
   "cell_type": "code",
   "execution_count": 133,
   "metadata": {},
   "outputs": [],
   "source": [
    "# select 3151 index positions at random. these will be dropped\n",
    "random_integers = np.random.choice(index_positions_of_zoom, size=3150, replace=False).tolist()"
   ]
  },
  {
   "cell_type": "code",
   "execution_count": 134,
   "metadata": {},
   "outputs": [],
   "source": [
    "# dropped, haha!\n",
    "combined_s.drop(index=random_integers, inplace=True)"
   ]
  },
  {
   "cell_type": "code",
   "execution_count": 135,
   "metadata": {},
   "outputs": [
    {
     "data": {
      "text/plain": [
       "0    5997\n",
       "1    5997\n",
       "Name: subreddit, dtype: int64"
      ]
     },
     "execution_count": 135,
     "metadata": {},
     "output_type": "execute_result"
    }
   ],
   "source": [
    "# now balanced classes\n",
    "combined_s['subreddit'].value_counts()"
   ]
  },
  {
   "cell_type": "markdown",
   "metadata": {},
   "source": [
    "# Modeling"
   ]
  },
  {
   "cell_type": "code",
   "execution_count": 136,
   "metadata": {},
   "outputs": [],
   "source": [
    "# define feature column\n",
    "X = combined_s['text_cleaned']\n",
    "# define target column\n",
    "y = combined_s['subreddit']\n",
    "\n",
    "# train test split\n",
    "X_train, X_test, y_train, y_test = train_test_split(X, y, test_size=0.33, random_state=42)"
   ]
  },
  {
   "cell_type": "markdown",
   "metadata": {},
   "source": [
    "### Baseline model first"
   ]
  },
  {
   "cell_type": "markdown",
   "metadata": {},
   "source": [
    "<font color='lightpurple'> The baseline model for this project would be a random classifier, which would predict either class with 50% probability. Thus, the accuracy score for this baseline model would be 50%. Our models should therefore strive to achieve a score significantly better than 50%.\n",
    "    \n",
    "<font color='lightpurple'> Alternatively, a slightly better model would be to check if Zoom or MST tags are present in the string and classify them as that. Eg. if the word 'Zoom' is present, then classify as Zoom "
   ]
  },
  {
   "cell_type": "code",
   "execution_count": 160,
   "metadata": {},
   "outputs": [
    {
     "data": {
      "text/plain": [
       "True"
      ]
     },
     "execution_count": 160,
     "metadata": {},
     "output_type": "execute_result"
    }
   ],
   "source": [
    "# Define custom function to check whether word(s) is/are in string. Returns True if yes\n",
    "def check_word_in_string(s, list_of_words):    \n",
    "    \n",
    "    return any(word in s.lower() for word in list_of_words)\n",
    "\n",
    "# test function, should return True since Zoom is in the text\n",
    "check_word_in_string('Make sure you have updated Zoom to the most current version.', ['zoom'])"
   ]
  },
  {
   "cell_type": "markdown",
   "metadata": {},
   "source": [
    "### Zoom first"
   ]
  },
  {
   "cell_type": "code",
   "execution_count": 165,
   "metadata": {},
   "outputs": [
    {
     "data": {
      "text/plain": [
       "array([[1970,   66],\n",
       "       [ 604, 1319]], dtype=int64)"
      ]
     },
     "execution_count": 165,
     "metadata": {},
     "output_type": "execute_result"
    }
   ],
   "source": [
    "# for each row of text in X_test, check if the word zoom is present. if yes, tag as 1. else tag as 0.\n",
    "# Rmb we earlier defined MST to be class 0 and Zoom to be class 1\n",
    "check_if_zoom_present = X_test.apply(lambda x: 1 if check_word_in_string(x, ['zoom']) else 0)\n",
    "confusion_matrix(y_true=y_test, y_pred=check_if_zoom_present)"
   ]
  },
  {
   "cell_type": "code",
   "execution_count": 167,
   "metadata": {},
   "outputs": [
    {
     "data": {
      "text/plain": [
       "0.8307653447840364"
      ]
     },
     "execution_count": 167,
     "metadata": {},
     "output_type": "execute_result"
    }
   ],
   "source": [
    "# top left and bottom right numbers are correct predictions. len(X_test) is total number of rows to predict\n",
    "(1970 + 1319) / len(X_test)\n",
    "\n",
    "# already get 83% just by this simple method"
   ]
  },
  {
   "cell_type": "markdown",
   "metadata": {},
   "source": [
    "### MST"
   ]
  },
  {
   "cell_type": "code",
   "execution_count": 169,
   "metadata": {},
   "outputs": [
    {
     "data": {
      "text/plain": [
       "array([[1543,  493],\n",
       "       [  29, 1894]], dtype=int64)"
      ]
     },
     "execution_count": 169,
     "metadata": {},
     "output_type": "execute_result"
    }
   ],
   "source": [
    "# for each row of text in X_test, check if the word microsoft or team is present. if yes, tag as 0. else tag as 1.\n",
    "check_if_mst_present = X_test.apply(lambda x: 0 if check_word_in_string(x, ['microsoft', 'team']) else 1)\n",
    "confusion_matrix(y_true=y_test, y_pred=check_if_mst_present)"
   ]
  },
  {
   "cell_type": "code",
   "execution_count": 171,
   "metadata": {},
   "outputs": [
    {
     "data": {
      "text/plain": [
       "0.8681485223541299"
      ]
     },
     "execution_count": 171,
     "metadata": {},
     "output_type": "execute_result"
    }
   ],
   "source": [
    "(1543 + 1894) / len(X_test)\n",
    "\n",
    "# even better, 86%"
   ]
  },
  {
   "cell_type": "markdown",
   "metadata": {},
   "source": [
    "### Instantiate 2 pipelines: 1 with Tfidf + LogReg, another with Tfidf+RandomForest"
   ]
  },
  {
   "cell_type": "code",
   "execution_count": 137,
   "metadata": {},
   "outputs": [],
   "source": [
    "# pipe is an estimator, just like logreg, linearreg. you can use it to .fit, .predict, .score\n",
    "# however, when you pass data through the pipe, it'll automatically process the data in the order you defined\n",
    "# in this case, it'll first vectorize with Tfidf, then use logreg to fit on the data if you call pipe.fit\n",
    "pipe_logreg = Pipeline([\n",
    "    ('tfidf', TfidfVectorizer()),    \n",
    "    ('lr', LogisticRegression())                \n",
    "                ])\n",
    "\n",
    "pipe_ranfor = Pipeline([\n",
    "    ('tfidf', TfidfVectorizer()),    \n",
    "    ('rf', RandomForestClassifier())                \n",
    "                ])"
   ]
  },
  {
   "cell_type": "markdown",
   "metadata": {},
   "source": [
    "### Fit each pipeline and score"
   ]
  },
  {
   "cell_type": "code",
   "execution_count": 138,
   "metadata": {},
   "outputs": [
    {
     "name": "stdout",
     "output_type": "stream",
     "text": [
      "Pipe_logreg training score: 0.964281269446173\n",
      "Pipe_logreg test score: 0.9252336448598131\n"
     ]
    }
   ],
   "source": [
    "pipe_logreg.fit(X_train, y_train)\n",
    "\n",
    "print(f'Pipe_logreg training score: {pipe_logreg.score(X_train, y_train)}')\n",
    "print(f'Pipe_logreg test score: {pipe_logreg.score(X_test, y_test)}')"
   ]
  },
  {
   "cell_type": "code",
   "execution_count": 139,
   "metadata": {},
   "outputs": [
    {
     "name": "stdout",
     "output_type": "stream",
     "text": [
      "Pipe_randomforest training score: 0.9993777224642191\n",
      "Pipe_randomforest test score: 0.9128567820156606\n"
     ]
    }
   ],
   "source": [
    "pipe_ranfor.fit(X_train, y_train)\n",
    "\n",
    "print(f'Pipe_randomforest training score: {pipe_ranfor.score(X_train, y_train)}')\n",
    "print(f'Pipe_randomforest test score: {pipe_ranfor.score(X_test, y_test)}')"
   ]
  },
  {
   "cell_type": "markdown",
   "metadata": {},
   "source": [
    "### Since Log reg performs better, we use it to do gridsearchcv to tune hyperparameters"
   ]
  },
  {
   "cell_type": "code",
   "execution_count": 140,
   "metadata": {},
   "outputs": [
    {
     "data": {
      "text/plain": [
       "GridSearchCV(cv=3,\n",
       "             estimator=Pipeline(steps=[('tfidf', TfidfVectorizer()),\n",
       "                                       ('lr', LogisticRegression())]),\n",
       "             param_grid={'lr__C': [5, 1, 0.1],\n",
       "                         'tfidf__max_features': [10000, 5000, 1000]},\n",
       "             scoring='accuracy')"
      ]
     },
     "execution_count": 140,
     "metadata": {},
     "output_type": "execute_result"
    }
   ],
   "source": [
    "# Define which hyperparameter you wanna tune. For speed, i'll only test 2, but go ahead and uncomment if you want to test more\n",
    "params_grid = {\n",
    "#    \"tfidf__ngram_range\": [(1,1), (1,2)],\n",
    "#    \"tfidf__max_df\": [1.0, 0.9],\n",
    "#    \"tfidf__min_df\": [0, 5],\n",
    "    \"tfidf__max_features\": [10000, 5000, 1000],\n",
    "    \"lr__C\": [5, 1, 0.1]\n",
    "}\n",
    "\n",
    "# instantiate the gridsearchcv and pass in the dictionary of parameters you want to tune\n",
    "# scoring by default is accuracy, so not ncessary actually\n",
    "# verbose spits out info as the model is running. 0 = no text, 3 = alot of text\n",
    "# cv is no. of cross validation folds\n",
    "grid = GridSearchCV(pipe_logreg, param_grid=params_grid, scoring='accuracy', verbose=0, cv=3)\n",
    "grid.fit(X_train, y_train)"
   ]
  },
  {
   "cell_type": "code",
   "execution_count": 141,
   "metadata": {},
   "outputs": [
    {
     "name": "stdout",
     "output_type": "stream",
     "text": [
      "{'lr__C': 1, 'tfidf__max_features': 5000}\n"
     ]
    }
   ],
   "source": [
    "# what are my best parameters?\n",
    "print(grid.best_params_)"
   ]
  },
  {
   "cell_type": "markdown",
   "metadata": {},
   "source": [
    "### Use the best parameters to fit and predict again, score should be better, however, cannot use Pipe this time cos we need the coefficients from logreg :("
   ]
  },
  {
   "cell_type": "code",
   "execution_count": 146,
   "metadata": {},
   "outputs": [
    {
     "name": "stdout",
     "output_type": "stream",
     "text": [
      "Final training score: 0.963036714374611\n",
      "Final test score: 0.9252336448598131\n"
     ]
    }
   ],
   "source": [
    "# instantiate TfidfVectorizer\n",
    "tfvec = TfidfVectorizer(max_features = 5000) # use best params from above\n",
    "\n",
    "# fit transform your training\n",
    "X_train_transformed = tfvec.fit_transform(X_train)\n",
    "# transform your test to prevent data leakage from test set\n",
    "X_test_transformed = tfvec.transform(X_test)\n",
    "\n",
    "# instantiate LogReg. C by default is already 1 so no difference even if you dont put C=1\n",
    "logreg = LogisticRegression(C=1)  # use best params from above\n",
    "\n",
    "# fit logreg to the transformed dataset\n",
    "logreg.fit(X_train_transformed, y_train)\n",
    "\n",
    "print(f'Final training score: {logreg.score(X_train_transformed, y_train)}')\n",
    "print(f'Final test score: {logreg.score(X_test_transformed, y_test)}')"
   ]
  },
  {
   "cell_type": "markdown",
   "metadata": {},
   "source": [
    "##### Ok la, got improve test score by 1%. Also,  better than our baseline (87%) by 5%, so not bad"
   ]
  },
  {
   "cell_type": "code",
   "execution_count": 147,
   "metadata": {},
   "outputs": [
    {
     "data": {
      "text/plain": [
       "(8035, 5000)"
      ]
     },
     "execution_count": 147,
     "metadata": {},
     "output_type": "execute_result"
    }
   ],
   "source": [
    "X_train_transformed.shape\n",
    "# there are 8037 rows of training data, 10000 features. 1 feature = 1 word, we specified max features = 10000 earlier"
   ]
  },
  {
   "cell_type": "code",
   "execution_count": 154,
   "metadata": {},
   "outputs": [
    {
     "data": {
      "text/plain": [
       "<8035x5000 sparse matrix of type '<class 'numpy.float64'>'\n",
       "\twith 278112 stored elements in Compressed Sparse Row format>"
      ]
     },
     "execution_count": 154,
     "metadata": {},
     "output_type": "execute_result"
    }
   ],
   "source": [
    "# this is a sparse matrix - basically a 2-d array (like excel table) with mostly zeroes\n",
    "X_train_transformed"
   ]
  },
  {
   "cell_type": "code",
   "execution_count": 149,
   "metadata": {},
   "outputs": [
    {
     "data": {
      "text/html": [
       "<div>\n",
       "<style scoped>\n",
       "    .dataframe tbody tr th:only-of-type {\n",
       "        vertical-align: middle;\n",
       "    }\n",
       "\n",
       "    .dataframe tbody tr th {\n",
       "        vertical-align: top;\n",
       "    }\n",
       "\n",
       "    .dataframe thead th {\n",
       "        text-align: right;\n",
       "    }\n",
       "</style>\n",
       "<table border=\"1\" class=\"dataframe\">\n",
       "  <thead>\n",
       "    <tr style=\"text-align: right;\">\n",
       "      <th></th>\n",
       "      <th>000</th>\n",
       "      <th>0000</th>\n",
       "      <th>00am</th>\n",
       "      <th>00pm</th>\n",
       "      <th>0200</th>\n",
       "      <th>0400</th>\n",
       "      <th>0x44a00018</th>\n",
       "      <th>0x45a52eb0</th>\n",
       "      <th>0x45b1f790</th>\n",
       "      <th>100</th>\n",
       "      <th>...</th>\n",
       "      <th>zoomcan</th>\n",
       "      <th>zoomed</th>\n",
       "      <th>zoomers</th>\n",
       "      <th>zoominfo</th>\n",
       "      <th>zooming</th>\n",
       "      <th>zoomlauncher3rdsdkipcreciever</th>\n",
       "      <th>zploghelperimp</th>\n",
       "      <th>zploghelpernull</th>\n",
       "      <th>zpmeetingnumberformatter</th>\n",
       "      <th>zvideoui</th>\n",
       "    </tr>\n",
       "  </thead>\n",
       "  <tbody>\n",
       "    <tr>\n",
       "      <th>0</th>\n",
       "      <td>0.0</td>\n",
       "      <td>0.0</td>\n",
       "      <td>0.0</td>\n",
       "      <td>0.0</td>\n",
       "      <td>0.0</td>\n",
       "      <td>0.0</td>\n",
       "      <td>0.0</td>\n",
       "      <td>0.0</td>\n",
       "      <td>0.0</td>\n",
       "      <td>0.0</td>\n",
       "      <td>...</td>\n",
       "      <td>0.0</td>\n",
       "      <td>0.0</td>\n",
       "      <td>0.0</td>\n",
       "      <td>0.0</td>\n",
       "      <td>0.0</td>\n",
       "      <td>0.0</td>\n",
       "      <td>0.0</td>\n",
       "      <td>0.0</td>\n",
       "      <td>0.0</td>\n",
       "      <td>0.0</td>\n",
       "    </tr>\n",
       "    <tr>\n",
       "      <th>1</th>\n",
       "      <td>0.0</td>\n",
       "      <td>0.0</td>\n",
       "      <td>0.0</td>\n",
       "      <td>0.0</td>\n",
       "      <td>0.0</td>\n",
       "      <td>0.0</td>\n",
       "      <td>0.0</td>\n",
       "      <td>0.0</td>\n",
       "      <td>0.0</td>\n",
       "      <td>0.0</td>\n",
       "      <td>...</td>\n",
       "      <td>0.0</td>\n",
       "      <td>0.0</td>\n",
       "      <td>0.0</td>\n",
       "      <td>0.0</td>\n",
       "      <td>0.0</td>\n",
       "      <td>0.0</td>\n",
       "      <td>0.0</td>\n",
       "      <td>0.0</td>\n",
       "      <td>0.0</td>\n",
       "      <td>0.0</td>\n",
       "    </tr>\n",
       "    <tr>\n",
       "      <th>2</th>\n",
       "      <td>0.0</td>\n",
       "      <td>0.0</td>\n",
       "      <td>0.0</td>\n",
       "      <td>0.0</td>\n",
       "      <td>0.0</td>\n",
       "      <td>0.0</td>\n",
       "      <td>0.0</td>\n",
       "      <td>0.0</td>\n",
       "      <td>0.0</td>\n",
       "      <td>0.0</td>\n",
       "      <td>...</td>\n",
       "      <td>0.0</td>\n",
       "      <td>0.0</td>\n",
       "      <td>0.0</td>\n",
       "      <td>0.0</td>\n",
       "      <td>0.0</td>\n",
       "      <td>0.0</td>\n",
       "      <td>0.0</td>\n",
       "      <td>0.0</td>\n",
       "      <td>0.0</td>\n",
       "      <td>0.0</td>\n",
       "    </tr>\n",
       "    <tr>\n",
       "      <th>3</th>\n",
       "      <td>0.0</td>\n",
       "      <td>0.0</td>\n",
       "      <td>0.0</td>\n",
       "      <td>0.0</td>\n",
       "      <td>0.0</td>\n",
       "      <td>0.0</td>\n",
       "      <td>0.0</td>\n",
       "      <td>0.0</td>\n",
       "      <td>0.0</td>\n",
       "      <td>0.0</td>\n",
       "      <td>...</td>\n",
       "      <td>0.0</td>\n",
       "      <td>0.0</td>\n",
       "      <td>0.0</td>\n",
       "      <td>0.0</td>\n",
       "      <td>0.0</td>\n",
       "      <td>0.0</td>\n",
       "      <td>0.0</td>\n",
       "      <td>0.0</td>\n",
       "      <td>0.0</td>\n",
       "      <td>0.0</td>\n",
       "    </tr>\n",
       "    <tr>\n",
       "      <th>4</th>\n",
       "      <td>0.0</td>\n",
       "      <td>0.0</td>\n",
       "      <td>0.0</td>\n",
       "      <td>0.0</td>\n",
       "      <td>0.0</td>\n",
       "      <td>0.0</td>\n",
       "      <td>0.0</td>\n",
       "      <td>0.0</td>\n",
       "      <td>0.0</td>\n",
       "      <td>0.0</td>\n",
       "      <td>...</td>\n",
       "      <td>0.0</td>\n",
       "      <td>0.0</td>\n",
       "      <td>0.0</td>\n",
       "      <td>0.0</td>\n",
       "      <td>0.0</td>\n",
       "      <td>0.0</td>\n",
       "      <td>0.0</td>\n",
       "      <td>0.0</td>\n",
       "      <td>0.0</td>\n",
       "      <td>0.0</td>\n",
       "    </tr>\n",
       "  </tbody>\n",
       "</table>\n",
       "<p>5 rows × 5000 columns</p>\n",
       "</div>"
      ],
      "text/plain": [
       "   000  0000  00am  00pm  0200  0400  0x44a00018  0x45a52eb0  0x45b1f790  100  \\\n",
       "0  0.0   0.0   0.0   0.0   0.0   0.0         0.0         0.0         0.0  0.0   \n",
       "1  0.0   0.0   0.0   0.0   0.0   0.0         0.0         0.0         0.0  0.0   \n",
       "2  0.0   0.0   0.0   0.0   0.0   0.0         0.0         0.0         0.0  0.0   \n",
       "3  0.0   0.0   0.0   0.0   0.0   0.0         0.0         0.0         0.0  0.0   \n",
       "4  0.0   0.0   0.0   0.0   0.0   0.0         0.0         0.0         0.0  0.0   \n",
       "\n",
       "   ...  zoomcan  zoomed  zoomers  zoominfo  zooming  \\\n",
       "0  ...      0.0     0.0      0.0       0.0      0.0   \n",
       "1  ...      0.0     0.0      0.0       0.0      0.0   \n",
       "2  ...      0.0     0.0      0.0       0.0      0.0   \n",
       "3  ...      0.0     0.0      0.0       0.0      0.0   \n",
       "4  ...      0.0     0.0      0.0       0.0      0.0   \n",
       "\n",
       "   zoomlauncher3rdsdkipcreciever  zploghelperimp  zploghelpernull  \\\n",
       "0                            0.0             0.0              0.0   \n",
       "1                            0.0             0.0              0.0   \n",
       "2                            0.0             0.0              0.0   \n",
       "3                            0.0             0.0              0.0   \n",
       "4                            0.0             0.0              0.0   \n",
       "\n",
       "   zpmeetingnumberformatter  zvideoui  \n",
       "0                       0.0       0.0  \n",
       "1                       0.0       0.0  \n",
       "2                       0.0       0.0  \n",
       "3                       0.0       0.0  \n",
       "4                       0.0       0.0  \n",
       "\n",
       "[5 rows x 5000 columns]"
      ]
     },
     "execution_count": 149,
     "metadata": {},
     "output_type": "execute_result"
    }
   ],
   "source": [
    "# visualise how your transformed X_train looks like\n",
    "# todense() converts the X_train_transformed sparse matrix to numpy array.\n",
    "# tfvec.get_feature_names() retrieves the words, essentially the column names of the df you see here\n",
    "df_X_train = pd.DataFrame(X_train_transformed.todense(), columns=tfvec.get_feature_names())\n",
    "df_X_train.head()\n",
    "# you can see alot of chapalang words and spelling errors"
   ]
  },
  {
   "cell_type": "markdown",
   "metadata": {},
   "source": [
    "### Get the model's coefficients"
   ]
  },
  {
   "cell_type": "code",
   "execution_count": 158,
   "metadata": {},
   "outputs": [
    {
     "data": {
      "text/html": [
       "<div>\n",
       "<style scoped>\n",
       "    .dataframe tbody tr th:only-of-type {\n",
       "        vertical-align: middle;\n",
       "    }\n",
       "\n",
       "    .dataframe tbody tr th {\n",
       "        vertical-align: top;\n",
       "    }\n",
       "\n",
       "    .dataframe thead th {\n",
       "        text-align: right;\n",
       "    }\n",
       "</style>\n",
       "<table border=\"1\" class=\"dataframe\">\n",
       "  <thead>\n",
       "    <tr style=\"text-align: right;\">\n",
       "      <th></th>\n",
       "      <th>feature</th>\n",
       "      <th>coefficient</th>\n",
       "    </tr>\n",
       "  </thead>\n",
       "  <tbody>\n",
       "    <tr>\n",
       "      <th>4984</th>\n",
       "      <td>zoom</td>\n",
       "      <td>17.551114</td>\n",
       "    </tr>\n",
       "    <tr>\n",
       "      <th>2210</th>\n",
       "      <td>host</td>\n",
       "      <td>5.573297</td>\n",
       "    </tr>\n",
       "    <tr>\n",
       "      <th>697</th>\n",
       "      <td>breakout</td>\n",
       "      <td>2.425089</td>\n",
       "    </tr>\n",
       "    <tr>\n",
       "      <th>4825</th>\n",
       "      <td>webinar</td>\n",
       "      <td>2.370870</td>\n",
       "    </tr>\n",
       "    <tr>\n",
       "      <th>199</th>\n",
       "      <td>account</td>\n",
       "      <td>2.215398</td>\n",
       "    </tr>\n",
       "  </tbody>\n",
       "</table>\n",
       "</div>"
      ],
      "text/plain": [
       "       feature  coefficient\n",
       "4984      zoom    17.551114\n",
       "2210      host     5.573297\n",
       "697   breakout     2.425089\n",
       "4825   webinar     2.370870\n",
       "199    account     2.215398"
      ]
     },
     "execution_count": 158,
     "metadata": {},
     "output_type": "execute_result"
    }
   ],
   "source": [
    "# create new dataframe with 2 columns: feature, which is the column names and the corresponding coefficient generated by the logreg model\n",
    "df_coef = pd.DataFrame({'feature': df_X_train.columns,\n",
    "              'coefficient': logreg.coef_[0]})\n",
    "\n",
    "# sort dataframe by size of coefficient so that we can take the largest 20 and smallest 20\n",
    "df_coef = df_coef.sort_values('coefficient', ascending=False)\n",
    "\n",
    "df_coef.head()"
   ]
  },
  {
   "cell_type": "markdown",
   "metadata": {},
   "source": [
    "### Plot nice nice graph"
   ]
  },
  {
   "cell_type": "code",
   "execution_count": 159,
   "metadata": {},
   "outputs": [
    {
     "data": {
      "image/png": "[encoded data removed]",
      "text/plain": [
       "<Figure size 720x576 with 1 Axes>"
      ]
     },
     "metadata": {
      "needs_background": "light"
     },
     "output_type": "display_data"
    }
   ],
   "source": [
    "# set how big you want your figure to be\n",
    "plt.figure(figsize=(10,8))\n",
    "\n",
    "# .head(20) takes top 20, .tail(20) takes bottom 20, rank by magnitude of coefficient\n",
    "ax = sns.barplot(data=pd.concat([df_coef.head(20), df_coef.tail(20)]), y='feature', x='coefficient')\n",
    "\n",
    "# set title of plot\n",
    "ax.set_title('Top and bottom 20 tokens contributing to the model predictions of subreddits')\n",
    "\n",
    "# draw a dotted line at x=1, above this line, model will tend to predict class 1 (Zoom)\n",
    "# below this line, model will tend to predict class 0 (MST)\n",
    "plt.axvline(x=1, ls='--')\n",
    "\n",
    "# bunch of formatting. i just copied paste from somehwere, dont understand also\n",
    "for p in ax.patches:\n",
    "    width = p.get_width()    # get bar length\n",
    "    ax.text(width + 0,       # set the text at 1 unit right of the bar\n",
    "            p.get_y() + p.get_height() / 2, # get Y coordinate + X coordinate / 2\n",
    "            '{:1.1f}'.format(width), # set variable to display, 2 decimals\n",
    "            ha = 'left',   # horizontal alignment\n",
    "            va = 'center')  # vertical alignment\n",
    "\n",
    "# save your chart! if you want   \n",
    "#plt.savefig('Charts/14.jpg')"
   ]
  },
  {
   "cell_type": "markdown",
   "metadata": {},
   "source": [
    "### Interpret your model"
   ]
  },
  {
   "cell_type": "markdown",
   "metadata": {},
   "source": [
    "The coefficients of LogisticRegression measure the degree which the target variable is sensitive to the feature. A larger absolute value of the coefficients implies that the target is more sensitive toward that feature.\n",
    "\n",
    "From the above graph, we see that the word \"zoom\" has the largest coefficient while \"team\" has the largest negative coefficient. In order to derive meaningful interpretations, one has to first take the exponent of the coefficient. For the word \"zoom\", that value would be about 4,000,000. In other words, having the presence of this word increases the ratio of success to failure by 4 million times. In the context of our problem, success is defined by classifying the submission as a Zoom subreddit, and is arbitrarily set. Ie. Success could also be defined as MicrosoftTeams and the result would be the same. The graph here was not exponentiated to show the relative comparison of the features; doing so would cause the other features' coefficients to be negligible given that the feature \"zoom\" is already 4 million.\n",
    "\n",
    "Because of the exponent, we say that features with a coefficient larger than 1 will improve the odds of the model predicting Zoom, and features with coefficients less than 1 will improve the odds of the model predicting MST. The blue dotted line depicts this cut off. Interestingly, out of the 16000 features, only 19 of them, when present, increases the odds of success.\n",
    "\n",
    "The coefficients imply that the 2 words \"team\" and \"zoom\" are extremely important; this is of course unsurprising."
   ]
  },
  {
   "cell_type": "markdown",
   "metadata": {},
   "source": [
    "# Conclusion"
   ]
  },
  {
   "cell_type": "markdown",
   "metadata": {},
   "source": [
    "We have done well. Panggang!"
   ]
  }
 ],
 "metadata": {
  "anaconda-cloud": {},
  "kernelspec": {
   "display_name": "Python 3",
   "language": "python",
   "name": "python3"
  },
  "language_info": {
   "codemirror_mode": {
    "name": "ipython",
    "version": 3
   },
   "file_extension": ".py",
   "mimetype": "text/x-python",
   "name": "python",
   "nbconvert_exporter": "python",
   "pygments_lexer": "ipython3",
   "version": "3.8.8"
  }
 },
 "nbformat": 4,
 "nbformat_minor": 4
}
